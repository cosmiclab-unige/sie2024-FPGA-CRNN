{
 "cells": [
  {
   "cell_type": "code",
   "execution_count": 10,
   "metadata": {},
   "outputs": [],
   "source": [
    "import glob\n",
    "import numpy as np\n",
    "import pandas as pd\n",
    "import random\n",
    "from sklearn.preprocessing import StandardScaler,MinMaxScaler\n",
    "from sklearn.model_selection import train_test_split"
   ]
  },
  {
   "cell_type": "code",
   "execution_count": 11,
   "metadata": {},
   "outputs": [],
   "source": [
    "data_path = r'C:\\Users\\cosmic\\Desktop\\Mohamad\\Texture experiment hardware implementation\\Codes\\Demo\\Raw_Data_non_Tuto'\n",
    "\n",
    "Glob_data = glob.glob(data_path + \"/*/*\")"
   ]
  },
  {
   "cell_type": "code",
   "execution_count": 12,
   "metadata": {},
   "outputs": [],
   "source": [
    "# Separate file paths based on the Text categories\n",
    "text_files = {\"Text1\": [], \"Text2\": [], \"Text3\": [], \"Text4\": [], \"Text5\": [], \"Text6\": [], \"Text7\": [], \"Text8\": []}\n",
    "\n",
    "for Gb in Glob_data:\n",
    "    for key in text_files.keys():\n",
    "        if key in Gb:\n",
    "            text_files[key].append(Gb)\n",
    "\n",
    "X_text, y_text = [], []\n",
    "\n",
    "for label, (key, file_paths) in enumerate(text_files.items()):\n",
    "    for file_path in file_paths:\n",
    "        df = pd.read_csv(file_path, header=None, delimiter='\\t')\n",
    "        \n",
    "        # Remove 4000 samples from the beginning and end of each column\n",
    "        df = df.iloc[4000:-4000, :]\n",
    "        # df = df-np.mean(df,axis=0)\n",
    "        # Normalize the data using StandardScaler\n",
    "        #scaler = StandardScaler()\n",
    "        scaler = MinMaxScaler()\n",
    "        df_normalized = scaler.fit_transform(df)\n",
    "        # df_normalized = (df - df.min()) /df.max() - df.min()\n",
    "\n",
    "        scaler = StandardScaler()\n",
    "        df_normalized = scaler.fit_transform(df)\n",
    "        \n",
    "        # Randomly select three windows of 300 samples\n",
    "        for _ in range(10):\n",
    "            start_idx = random.randint(0, df_normalized.shape[0] - 300)\n",
    "            df_extract = df_normalized[start_idx:start_idx + 300, :]\n",
    "            \n",
    "            # Append to the corresponding list based on the Text category\n",
    "            X_text.append(df_extract)\n",
    "            y_text.append(int(label))\n",
    "\n",
    "# Convert lists to NumPy arrays\n",
    "X_text = np.asarray(X_text)\n",
    "y_text = np.asarray(y_text)\n"
   ]
  },
  {
   "cell_type": "code",
   "execution_count": 15,
   "metadata": {},
   "outputs": [],
   "source": [
    "X_train, X_tmp, y_train, y_tmp = train_test_split(X_text, y_text, test_size=0.2, random_state=47,stratify=y_text)\n",
    "X_Val, X_test, y_val, y_test = train_test_split(X_tmp, y_tmp, test_size=0.5, random_state=47,stratify=y_tmp)"
   ]
  },
  {
   "cell_type": "code",
   "execution_count": 16,
   "metadata": {},
   "outputs": [],
   "source": [
    "with open ('dataset.npy','wb') as f:\n",
    "    np.save(f, X_train)\n",
    "    np.save(f, y_train)\n",
    "    np.save(f, X_Val)\n",
    "    np.save(f, y_val)\n",
    "    np.save(f, X_test)\n",
    "    np.save(f, y_test)"
   ]
  }
 ],
 "metadata": {
  "kernelspec": {
   "display_name": "Python 3",
   "language": "python",
   "name": "python3"
  },
  "language_info": {
   "codemirror_mode": {
    "name": "ipython",
    "version": 3
   },
   "file_extension": ".py",
   "mimetype": "text/x-python",
   "name": "python",
   "nbconvert_exporter": "python",
   "pygments_lexer": "ipython3",
   "version": "3.10.11"
  }
 },
 "nbformat": 4,
 "nbformat_minor": 2
}
